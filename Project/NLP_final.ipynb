{
 "cells": [
  {
   "cell_type": "markdown",
   "metadata": {
    "id": "ypsiUMBz6UFe"
   },
   "source": [
    "# Installation and importing"
   ]
  },
  {
   "cell_type": "code",
   "execution_count": 1,
   "metadata": {
    "id": "CtfaaRF9NBIx"
   },
   "outputs": [],
   "source": [
    "%%capture\n",
    "!pip install tika\n",
    "!pip install matplotlib\n",
    "!pip install langchain\n",
    "!pip install -qU llama-index-llms-openai\n",
    "!pip install langchain_community\n",
    "!pip install langchain_core\n",
    "!pip install langchain_openai\n",
    "!pip install langchain_experimental\n",
    "!pip install faiss-cpu\n",
    "!pip install datasets\n",
    "!pip install ragas"
   ]
  },
  {
   "cell_type": "code",
   "execution_count": 2,
   "metadata": {
    "id": "VPirJeWW0xGw"
   },
   "outputs": [],
   "source": [
    "import os\n",
    "import re\n",
    "import getpass\n",
    "import pandas as pd\n",
    "from tika import parser\n",
    "from datasets import load_dataset, Dataset\n",
    "from ragas import evaluate\n",
    "import matplotlib.pyplot as plt\n",
    "from ragas.metrics import (answer_relevancy, faithfulness, context_recall, context_precision)\n",
    "from langchain.text_splitter import RecursiveCharacterTextSplitter\n",
    "from langchain_community.vectorstores import FAISS\n",
    "from langchain_openai.embeddings import OpenAIEmbeddings\n",
    "from langchain_openai import ChatOpenAI\n",
    "from langchain_core.prompts import ChatPromptTemplate\n",
    "from langchain_core.runnables import RunnablePassthrough\n",
    "from langchain_core.output_parsers import StrOutputParser\n",
    "from langchain_experimental.text_splitter import SemanticChunker"
   ]
  },
  {
   "cell_type": "code",
   "execution_count": 3,
   "metadata": {
    "id": "f_PxI-TBBCPz"
   },
   "outputs": [],
   "source": [
    "os.environ[\"OPENAI_API_KEY\"]= \"sk-proj-EpcuRNoHC6vZvieDWSR2T3BlbkFJVgs9EQBu6tx0CO9VchbF\""
   ]
  },
  {
   "cell_type": "markdown",
   "metadata": {
    "id": "x83Jp_J-5-dm"
   },
   "source": [
    "## Introduction"
   ]
  },
  {
   "cell_type": "markdown",
   "metadata": {
    "id": "Z9ghm0NP6Z8e"
   },
   "source": [
    "Our project aims to create a Question Answering (QA) model that delves into the foundation of human rights, exploring seminal legal documents like Justinian's Code and Magna Carta. To achieve this, we're developing a RAG (Retrieval-Augmented Generation) model that leverages the capabilities of Large Language Models (LLMs). Our RAG model will retrieve relevant passages from these historical texts and generate accurate answers to users' questions, providing insights into the evolution of human rights and their significance in modern times.\n",
    "\n",
    "Our project will:\n",
    "\n",
    "\n",
    "*   Develop a RAG model that focuses on legal-human rights documents\n",
    "*   Train the model on a dataset comprising Justinian's Code, Magna Carta, and other relevant texts\n",
    "*   Evaluate the model's performance on a test set of questions\n",
    "*   Fine-tune the model for improved accuracy and relevance\n",
    "\n",
    "Our RAG model builds upon the advancements in LLMs, which have demonstrated exceptional language understanding and generation capabilities. By integrating retrieval capabilities into our RAG model, we can ensure that the generated answers are grounded in the original texts, providing a more reliable and informative QA experience."
   ]
  },
  {
   "cell_type": "markdown",
   "metadata": {
    "id": "8pmctoxv6ETY"
   },
   "source": [
    "## Universal Declaration of the Human Rights"
   ]
  },
  {
   "cell_type": "code",
   "execution_count": 125,
   "metadata": {
    "colab": {
     "base_uri": "https://localhost:8080/"
    },
    "id": "Frtg7_iRNCYS",
    "outputId": "fa89c770-e333-4ef2-94ad-775eb72e7aa0"
   },
   "outputs": [
    {
     "name": "stdout",
     "output_type": "stream",
     "text": [
      "Universal Declaration of Human Rights Preamble Whereas recognition of the inherent dignity and of th\n"
     ]
    }
   ],
   "source": [
    "text_file = parser.from_file(\"datasets/Universal Declaration of the Human Rights.pdf\")\n",
    "print(text_file['content'].replace('\\n', '')[:100])"
   ]
  },
  {
   "cell_type": "markdown",
   "metadata": {
    "id": "H7o4sb-a8V9I"
   },
   "source": [
    "### Chunking methods\n",
    "\n",
    "Chunking is a crucial step in preprocessing text data for our RAG model. We explore three approaches: naive chunking, semantic chunking and manual chunking."
   ]
  },
  {
   "cell_type": "markdown",
   "metadata": {
    "id": "ng_2TBxf8rWG"
   },
   "source": [
    "**Recursive Character Text Splitter** (also called naive chunking) - it is a fundamental tool in the LangChain suite for breaking down large texts into manageable, semantically coherent chunks. This method is particularly recommended for initial text processing due to its ability to maintain the contextual integrity of the text. It operates by recursively splitting text based on a list of user-defined characters, ensuring that related pieces of text remain adjacent to each other, thus preserving their semantic relationship."
   ]
  },
  {
   "cell_type": "code",
   "execution_count": 42,
   "metadata": {
    "colab": {
     "base_uri": "https://localhost:8080/",
     "height": 206
    },
    "id": "njzbs4ueNW8U",
    "outputId": "f7c185fd-0044-49ec-d272-2151f6579e55"
   },
   "outputs": [
    {
     "data": {
      "text/html": [
       "<div>\n",
       "<style scoped>\n",
       "    .dataframe tbody tr th:only-of-type {\n",
       "        vertical-align: middle;\n",
       "    }\n",
       "\n",
       "    .dataframe tbody tr th {\n",
       "        vertical-align: top;\n",
       "    }\n",
       "\n",
       "    .dataframe thead th {\n",
       "        text-align: right;\n",
       "    }\n",
       "</style>\n",
       "<table border=\"1\" class=\"dataframe\">\n",
       "  <thead>\n",
       "    <tr style=\"text-align: right;\">\n",
       "      <th></th>\n",
       "      <th>0</th>\n",
       "    </tr>\n",
       "  </thead>\n",
       "  <tbody>\n",
       "    <tr>\n",
       "      <th>0</th>\n",
       "      <td>Universal Declaration of Human Rights \\n\\nPrea...</td>\n",
       "    </tr>\n",
       "    <tr>\n",
       "      <th>1</th>\n",
       "      <td>and peace in the world,  \\n\\nWhereas disregard...</td>\n",
       "    </tr>\n",
       "    <tr>\n",
       "      <th>2</th>\n",
       "      <td>in which human beings shall enjoy freedom of s...</td>\n",
       "    </tr>\n",
       "    <tr>\n",
       "      <th>3</th>\n",
       "      <td>resort, to rebellion against tyranny and oppre...</td>\n",
       "    </tr>\n",
       "    <tr>\n",
       "      <th>4</th>\n",
       "      <td>Whereas the peoples of the United Nations have...</td>\n",
       "    </tr>\n",
       "  </tbody>\n",
       "</table>\n",
       "</div>"
      ],
      "text/plain": [
       "                                                   0\n",
       "0  Universal Declaration of Human Rights \\n\\nPrea...\n",
       "1  and peace in the world,  \\n\\nWhereas disregard...\n",
       "2  in which human beings shall enjoy freedom of s...\n",
       "3  resort, to rebellion against tyranny and oppre...\n",
       "4  Whereas the peoples of the United Nations have..."
      ]
     },
     "execution_count": 42,
     "metadata": {},
     "output_type": "execute_result"
    }
   ],
   "source": [
    "naive_chunker = RecursiveCharacterTextSplitter(\n",
    "    chunk_size=256,\n",
    "    chunk_overlap=0,\n",
    "    length_function=len,\n",
    "    is_separator_regex=False\n",
    ")\n",
    "\n",
    "naive_chunks = naive_chunker.split_text(text_file['content'])\n",
    "naive_chunks_df = pd.DataFrame(naive_chunks)\n",
    "naive_chunks_df.head()"
   ]
  },
  {
   "cell_type": "markdown",
   "metadata": {
    "id": "QUWBdISZ9SNw"
   },
   "source": [
    "**Semantic Chunking** - it considers the relationships within the text. It divides the text into meaningful, semantically complete chunks. This approach ensures the information’s integrity during retrieval, leading to a more accurate and contextually appropriate outcome. It is slower compared to the previous chunking strategy."
   ]
  },
  {
   "cell_type": "markdown",
   "metadata": {
    "id": "QQsbeH-E-LgO"
   },
   "source": [
    "**Interquartile chunking** - in this method, the interquartile distance is used to split chunks."
   ]
  },
  {
   "cell_type": "code",
   "execution_count": 43,
   "metadata": {
    "colab": {
     "base_uri": "https://localhost:8080/",
     "height": 206
    },
    "id": "yKJcTDbl4bHV",
    "outputId": "8df66480-d469-4d95-8706-6c38080354c0"
   },
   "outputs": [
    {
     "data": {
      "text/html": [
       "<div>\n",
       "<style scoped>\n",
       "    .dataframe tbody tr th:only-of-type {\n",
       "        vertical-align: middle;\n",
       "    }\n",
       "\n",
       "    .dataframe tbody tr th {\n",
       "        vertical-align: top;\n",
       "    }\n",
       "\n",
       "    .dataframe thead th {\n",
       "        text-align: right;\n",
       "    }\n",
       "</style>\n",
       "<table border=\"1\" class=\"dataframe\">\n",
       "  <thead>\n",
       "    <tr style=\"text-align: right;\">\n",
       "      <th></th>\n",
       "      <th>0</th>\n",
       "      <th>1</th>\n",
       "      <th>2</th>\n",
       "    </tr>\n",
       "  </thead>\n",
       "  <tbody>\n",
       "    <tr>\n",
       "      <th>0</th>\n",
       "      <td>(page_content, \\n\\n\\n\\n\\n\\n\\n\\n\\n\\n\\n\\n\\n\\n\\n\\...</td>\n",
       "      <td>(metadata, {})</td>\n",
       "      <td>(type, Document)</td>\n",
       "    </tr>\n",
       "    <tr>\n",
       "      <th>1</th>\n",
       "      <td>(page_content, This right may not be invoked i...</td>\n",
       "      <td>(metadata, {})</td>\n",
       "      <td>(type, Document)</td>\n",
       "    </tr>\n",
       "    <tr>\n",
       "      <th>2</th>\n",
       "      <td>(page_content, Everyone has the right to own p...</td>\n",
       "      <td>(metadata, {})</td>\n",
       "      <td>(type, Document)</td>\n",
       "    </tr>\n",
       "    <tr>\n",
       "      <th>3</th>\n",
       "      <td>(page_content, No one shall be arbitrarily dep...</td>\n",
       "      <td>(metadata, {})</td>\n",
       "      <td>(type, Document)</td>\n",
       "    </tr>\n",
       "    <tr>\n",
       "      <th>4</th>\n",
       "      <td>(page_content, Parents have a prior right to c...</td>\n",
       "      <td>(metadata, {})</td>\n",
       "      <td>(type, Document)</td>\n",
       "    </tr>\n",
       "  </tbody>\n",
       "</table>\n",
       "</div>"
      ],
      "text/plain": [
       "                                                   0               1  \\\n",
       "0  (page_content, \\n\\n\\n\\n\\n\\n\\n\\n\\n\\n\\n\\n\\n\\n\\n\\...  (metadata, {})   \n",
       "1  (page_content, This right may not be invoked i...  (metadata, {})   \n",
       "2  (page_content, Everyone has the right to own p...  (metadata, {})   \n",
       "3  (page_content, No one shall be arbitrarily dep...  (metadata, {})   \n",
       "4  (page_content, Parents have a prior right to c...  (metadata, {})   \n",
       "\n",
       "                  2  \n",
       "0  (type, Document)  \n",
       "1  (type, Document)  \n",
       "2  (type, Document)  \n",
       "3  (type, Document)  \n",
       "4  (type, Document)  "
      ]
     },
     "execution_count": 43,
     "metadata": {},
     "output_type": "execute_result"
    }
   ],
   "source": [
    "interquartile_chunker = SemanticChunker(\n",
    "    OpenAIEmbeddings(), breakpoint_threshold_type=\"interquartile\"\n",
    ")\n",
    "\n",
    "interquartile_chunks = interquartile_chunker.create_documents([text_file['content']])\n",
    "interquartile_chunks_df = pd.DataFrame(interquartile_chunks)\n",
    "interquartile_chunks_df.head()"
   ]
  },
  {
   "cell_type": "markdown",
   "metadata": {
    "id": "4x-Kp63N-eSz"
   },
   "source": [
    "**Percentile chunking** - in this method, all differences between sentences are calculated, and then any difference greater than the X percentile is split."
   ]
  },
  {
   "cell_type": "code",
   "execution_count": 44,
   "metadata": {
    "colab": {
     "base_uri": "https://localhost:8080/",
     "height": 206
    },
    "id": "pL60Xwdi5X_K",
    "outputId": "eae260f8-4b91-4228-b292-700d72cb9a8d"
   },
   "outputs": [
    {
     "data": {
      "text/html": [
       "<div>\n",
       "<style scoped>\n",
       "    .dataframe tbody tr th:only-of-type {\n",
       "        vertical-align: middle;\n",
       "    }\n",
       "\n",
       "    .dataframe tbody tr th {\n",
       "        vertical-align: top;\n",
       "    }\n",
       "\n",
       "    .dataframe thead th {\n",
       "        text-align: right;\n",
       "    }\n",
       "</style>\n",
       "<table border=\"1\" class=\"dataframe\">\n",
       "  <thead>\n",
       "    <tr style=\"text-align: right;\">\n",
       "      <th></th>\n",
       "      <th>0</th>\n",
       "      <th>1</th>\n",
       "      <th>2</th>\n",
       "    </tr>\n",
       "  </thead>\n",
       "  <tbody>\n",
       "    <tr>\n",
       "      <th>0</th>\n",
       "      <td>(page_content, \\n\\n\\n\\n\\n\\n\\n\\n\\n\\n\\n\\n\\n\\n\\n\\...</td>\n",
       "      <td>(metadata, {})</td>\n",
       "      <td>(type, Document)</td>\n",
       "    </tr>\n",
       "    <tr>\n",
       "      <th>1</th>\n",
       "      <td>(page_content, This right may not be invoked i...</td>\n",
       "      <td>(metadata, {})</td>\n",
       "      <td>(type, Document)</td>\n",
       "    </tr>\n",
       "    <tr>\n",
       "      <th>2</th>\n",
       "      <td>(page_content, Everyone has the right to own p...</td>\n",
       "      <td>(metadata, {})</td>\n",
       "      <td>(type, Document)</td>\n",
       "    </tr>\n",
       "    <tr>\n",
       "      <th>3</th>\n",
       "      <td>(page_content, No one shall be arbitrarily dep...</td>\n",
       "      <td>(metadata, {})</td>\n",
       "      <td>(type, Document)</td>\n",
       "    </tr>\n",
       "    <tr>\n",
       "      <th>4</th>\n",
       "      <td>(page_content, Parents have a prior right to c...</td>\n",
       "      <td>(metadata, {})</td>\n",
       "      <td>(type, Document)</td>\n",
       "    </tr>\n",
       "  </tbody>\n",
       "</table>\n",
       "</div>"
      ],
      "text/plain": [
       "                                                   0               1  \\\n",
       "0  (page_content, \\n\\n\\n\\n\\n\\n\\n\\n\\n\\n\\n\\n\\n\\n\\n\\...  (metadata, {})   \n",
       "1  (page_content, This right may not be invoked i...  (metadata, {})   \n",
       "2  (page_content, Everyone has the right to own p...  (metadata, {})   \n",
       "3  (page_content, No one shall be arbitrarily dep...  (metadata, {})   \n",
       "4  (page_content, Parents have a prior right to c...  (metadata, {})   \n",
       "\n",
       "                  2  \n",
       "0  (type, Document)  \n",
       "1  (type, Document)  \n",
       "2  (type, Document)  \n",
       "3  (type, Document)  \n",
       "4  (type, Document)  "
      ]
     },
     "execution_count": 44,
     "metadata": {},
     "output_type": "execute_result"
    }
   ],
   "source": [
    "percentile_chunker = SemanticChunker(\n",
    "    OpenAIEmbeddings(), breakpoint_threshold_type=\"percentile\"\n",
    ")\n",
    "\n",
    "percentile_chunks = percentile_chunker.create_documents([text_file['content']])\n",
    "percentile_chunks_df = pd.DataFrame(percentile_chunks)\n",
    "percentile_chunks_df.head()"
   ]
  },
  {
   "cell_type": "markdown",
   "metadata": {
    "id": "wNSbB9Lb-oBo"
   },
   "source": [
    "**Manual chunking** - this chunking method was manually created by us in order to capture all of the articles in the document in different chunks. It uses basic regular expressions."
   ]
  },
  {
   "cell_type": "code",
   "execution_count": 65,
   "metadata": {
    "colab": {
     "base_uri": "https://localhost:8080/",
     "height": 206
    },
    "id": "1nguQeVqOv2A",
    "outputId": "bf52e93a-a6a6-4599-9014-b05aae1a861e"
   },
   "outputs": [
    {
     "data": {
      "text/html": [
       "<div>\n",
       "<style scoped>\n",
       "    .dataframe tbody tr th:only-of-type {\n",
       "        vertical-align: middle;\n",
       "    }\n",
       "\n",
       "    .dataframe tbody tr th {\n",
       "        vertical-align: top;\n",
       "    }\n",
       "\n",
       "    .dataframe thead th {\n",
       "        text-align: right;\n",
       "    }\n",
       "</style>\n",
       "<table border=\"1\" class=\"dataframe\">\n",
       "  <thead>\n",
       "    <tr style=\"text-align: right;\">\n",
       "      <th></th>\n",
       "      <th>0</th>\n",
       "    </tr>\n",
       "  </thead>\n",
       "  <tbody>\n",
       "    <tr>\n",
       "      <th>0</th>\n",
       "      <td>\\n\\nWhereas recognition of the inherent digni...</td>\n",
       "    </tr>\n",
       "    <tr>\n",
       "      <th>1</th>\n",
       "      <td>All human beings are born free and equal in di...</td>\n",
       "    </tr>\n",
       "    <tr>\n",
       "      <th>2</th>\n",
       "      <td>Everyone is entitled to all the rights and fre...</td>\n",
       "    </tr>\n",
       "    <tr>\n",
       "      <th>3</th>\n",
       "      <td>Everyone has the right to life, liberty and th...</td>\n",
       "    </tr>\n",
       "    <tr>\n",
       "      <th>4</th>\n",
       "      <td>No one shall be held in slavery or servitude; ...</td>\n",
       "    </tr>\n",
       "  </tbody>\n",
       "</table>\n",
       "</div>"
      ],
      "text/plain": [
       "                                                   0\n",
       "0   \\n\\nWhereas recognition of the inherent digni...\n",
       "1  All human beings are born free and equal in di...\n",
       "2  Everyone is entitled to all the rights and fre...\n",
       "3  Everyone has the right to life, liberty and th...\n",
       "4  No one shall be held in slavery or servitude; ..."
      ]
     },
     "execution_count": 65,
     "metadata": {},
     "output_type": "execute_result"
    }
   ],
   "source": [
    "manual_chunks = re.split(r'Article \\d+\\s*|Preamble', text_file['content'])[1:]  # Split on \"ART. X \" and keep the chunks\n",
    "manual_chunks_df = pd.DataFrame(manual_chunks)\n",
    "manual_chunks_df.head()"
   ]
  },
  {
   "cell_type": "markdown",
   "metadata": {
    "id": "vww9zEbN-6RP"
   },
   "source": [
    "### Model definition\n",
    "\n",
    "In this part, we will define our RAG model. Firstly, we will define the template for our model. By template, we mean:\n",
    "\n",
    "*   If the model can't find a related context to our question in the text, it will output \"I don't know\"\n",
    "*   Otherwise, it will take the related context and augment it with the user defined question\n",
    "\n"
   ]
  },
  {
   "cell_type": "code",
   "execution_count": 66,
   "metadata": {
    "id": "8PvGAKCzdVOy"
   },
   "outputs": [],
   "source": [
    "rag_template = \"\"\"\\\n",
    "Use the following context to answer the user's query. If you cannot answer, please respond with 'I don't know'.\n",
    "\n",
    "User's Query:\n",
    "{question}\n",
    "\n",
    "Context:\n",
    "{context}\n",
    "\"\"\"\n",
    "\n",
    "rag_prompt = ChatPromptTemplate.from_template(rag_template)"
   ]
  },
  {
   "cell_type": "markdown",
   "metadata": {
    "id": "dLBHKMWC_8bY"
   },
   "source": [
    "RAG models retrieve the context from vector databases. In this part, we will define 4 vector databases for each of our chunks. And to transfer our text file into numbers in the vector databases, we will use the \"text-embedding-3-large\" embedding model from OpenAI."
   ]
  },
  {
   "cell_type": "code",
   "execution_count": 67,
   "metadata": {
    "id": "tayerc-dfD4r"
   },
   "outputs": [],
   "source": [
    "naive_vectorstore = FAISS.from_texts(naive_chunks, embedding=OpenAIEmbeddings(model=\"text-embedding-3-large\"))\n",
    "naive_retriever = naive_vectorstore.as_retriever(search_kwargs={\"k\" : 4})"
   ]
  },
  {
   "cell_type": "code",
   "execution_count": 68,
   "metadata": {
    "id": "rPbreYN7BcfH"
   },
   "outputs": [],
   "source": [
    "interquartile_vectorstore = FAISS.from_documents(interquartile_chunks, embedding=OpenAIEmbeddings(model=\"text-embedding-3-large\"))\n",
    "interquartile_retriever = interquartile_vectorstore.as_retriever(search_kwargs={\"k\" : 4})"
   ]
  },
  {
   "cell_type": "code",
   "execution_count": 69,
   "metadata": {
    "id": "iPhG5f0XBcXE"
   },
   "outputs": [],
   "source": [
    "percentile_vectorstore = FAISS.from_documents(percentile_chunks, embedding=OpenAIEmbeddings(model=\"text-embedding-3-large\"))\n",
    "percentile_retriever = percentile_vectorstore.as_retriever(search_kwargs={\"k\" : 4})"
   ]
  },
  {
   "cell_type": "code",
   "execution_count": 70,
   "metadata": {
    "id": "4gO4nSQ2BcLC"
   },
   "outputs": [],
   "source": [
    "manual_vectorstore = FAISS.from_texts(manual_chunks, embedding=OpenAIEmbeddings(model=\"text-embedding-3-large\"))\n",
    "manual_retriever = manual_vectorstore.as_retriever(search_kwargs={\"k\" : 4})"
   ]
  },
  {
   "cell_type": "markdown",
   "metadata": {
    "id": "YUKJmVzuBXIO"
   },
   "source": [
    "Our base model for question answering system will be ChatOpenAI."
   ]
  },
  {
   "cell_type": "code",
   "execution_count": 71,
   "metadata": {
    "id": "erOGP-jYfaSP"
   },
   "outputs": [],
   "source": [
    "base_model = ChatOpenAI()"
   ]
  },
  {
   "cell_type": "markdown",
   "metadata": {
    "id": "wBdkCJokB1fC"
   },
   "source": [
    "These are the main bodies of ouor models. We will first define the context by setting it to relevant retriever from our vectorbase and in the same way, we will define the question by setting it to the user defined question. Then these two will go through our pre-defined prompt. As we know from earlier, the prompt will retrieve the context and augment it with the question before feeding them to our base model. When the base model receives these two, it will generate an answer. The answer will solely be related to our database."
   ]
  },
  {
   "cell_type": "code",
   "execution_count": 72,
   "metadata": {
    "id": "zY1x2vi7f0Ka"
   },
   "outputs": [],
   "source": [
    "naive_rag_chain = (\n",
    "    {\"context\" : naive_retriever, \"question\" : RunnablePassthrough()}\n",
    "    | rag_prompt\n",
    "    | base_model\n",
    "    | StrOutputParser()\n",
    ")"
   ]
  },
  {
   "cell_type": "code",
   "execution_count": 73,
   "metadata": {
    "id": "8VmEhUQSC47s"
   },
   "outputs": [],
   "source": [
    "interquartile_rag_chain = (\n",
    "    {\"context\" : interquartile_retriever, \"question\" : RunnablePassthrough()}\n",
    "    | rag_prompt\n",
    "    | base_model\n",
    "    | StrOutputParser()\n",
    ")"
   ]
  },
  {
   "cell_type": "code",
   "execution_count": 74,
   "metadata": {
    "id": "QyeZzFFNC4zF"
   },
   "outputs": [],
   "source": [
    "percentile_rag_chain = (\n",
    "    {\"context\" : percentile_retriever, \"question\" : RunnablePassthrough()}\n",
    "    | rag_prompt\n",
    "    | base_model\n",
    "    | StrOutputParser()\n",
    ")"
   ]
  },
  {
   "cell_type": "code",
   "execution_count": 75,
   "metadata": {
    "id": "mY502MFFDDok"
   },
   "outputs": [],
   "source": [
    "manual_rag_chain = (\n",
    "    {\"context\" : manual_retriever, \"question\" : RunnablePassthrough()}\n",
    "    | rag_prompt\n",
    "    | base_model\n",
    "    | StrOutputParser()\n",
    ")"
   ]
  },
  {
   "cell_type": "markdown",
   "metadata": {
    "id": "qT4rWePUFIcx"
   },
   "source": [
    "### Testing with random questions"
   ]
  },
  {
   "cell_type": "markdown",
   "metadata": {
    "id": "p0Cjgny-FLJx"
   },
   "source": [
    "For comparing the different chunking methods and in general, for comparing the models, we will create some random questions based on our text and get answers from these models. We will also create some questions that are not in the document to see if it outputs \"I don't know\"."
   ]
  },
  {
   "cell_type": "code",
   "execution_count": 76,
   "metadata": {
    "colab": {
     "base_uri": "https://localhost:8080/"
    },
    "id": "6BH-ACZUFKjM",
    "outputId": "17bbd618-7ab3-4a3d-b370-729196840295"
   },
   "outputs": [
    {
     "name": "stdout",
     "output_type": "stream",
     "text": [
      "The question is: What is the natural and fundamental group in society?\n",
      "\n",
      "The answer of naive chunking is: The natural and fundamental group in society is the family.\n",
      "\n",
      "The answer of interquartile chunking is: The natural and fundamental group in society is the family, according to the context provided.\n",
      "\n",
      "The answer of percentile chunking is: The natural and fundamental group in society is the family, according to the context provided.\n",
      "\n",
      "The answer of manual chunking is: The natural and fundamental group in society is considered to be the family, according to the context provided.\n"
     ]
    }
   ],
   "source": [
    "# Test 1\n",
    "question = \"What is the natural and fundamental group in society?\"\n",
    "\n",
    "naive_answer_1 = naive_rag_chain.invoke(question)\n",
    "interquartile_answer_1 = interquartile_rag_chain.invoke(question)\n",
    "percentile_answer_1 = percentile_rag_chain.invoke(question)\n",
    "manual_answer_1 = manual_rag_chain.invoke(question)\n",
    "\n",
    "print(f\"The question is: {question}\")\n",
    "print(f\"\\nThe answer of naive chunking is: {naive_answer_1}\")\n",
    "print(f\"\\nThe answer of interquartile chunking is: {interquartile_answer_1}\")\n",
    "print(f\"\\nThe answer of percentile chunking is: {percentile_answer_1}\")\n",
    "print(f\"\\nThe answer of manual chunking is: {manual_answer_1}\")"
   ]
  },
  {
   "cell_type": "code",
   "execution_count": 78,
   "metadata": {
    "colab": {
     "base_uri": "https://localhost:8080/"
    },
    "id": "uygb5mKGJyCa",
    "outputId": "8856d4f9-17ef-4829-f3f1-4ad156437b3b"
   },
   "outputs": [
    {
     "name": "stdout",
     "output_type": "stream",
     "text": [
      "The question is: Who has the right to freedom of thought?\n",
      "\n",
      "The answer of naive chunking is: Everyone has the right to freedom of thought according to the context provided.\n",
      "\n",
      "The answer of interquartile chunking is: Everyone has the right to freedom of thought.\n",
      "\n",
      "The answer of percentile chunking is: Everyone has the right to freedom of thought, conscience, and religion, as stated in the provided document.\n",
      "\n",
      "The answer of manual chunking is: Everyone has the right to freedom of thought, as stated in the context provided.\n"
     ]
    }
   ],
   "source": [
    "# Test 2\n",
    "question = \"Who has the right to freedom of thought?\"\n",
    "\n",
    "naive_answer_2 = naive_rag_chain.invoke(question)\n",
    "interquartile_answer_2 = interquartile_rag_chain.invoke(question)\n",
    "percentile_answer_2 = percentile_rag_chain.invoke(question)\n",
    "manual_answer_2 = manual_rag_chain.invoke(question)\n",
    "\n",
    "print(f\"The question is: {question}\")\n",
    "print(f\"\\nThe answer of naive chunking is: {naive_answer_2}\")\n",
    "print(f\"\\nThe answer of interquartile chunking is: {interquartile_answer_2}\")\n",
    "print(f\"\\nThe answer of percentile chunking is: {percentile_answer_2}\")\n",
    "print(f\"\\nThe answer of manual chunking is: {manual_answer_2}\")"
   ]
  },
  {
   "cell_type": "markdown",
   "metadata": {},
   "source": [
    "### Model Evaluation\n",
    "\n",
    "In the final part, we will ask the OpenAI model to generate questions (to behave like a teacher preparing questions for the students) from the document in order to assess our model's ability to answer questions."
   ]
  },
  {
   "cell_type": "markdown",
   "metadata": {},
   "source": [
    "In order to achieve this, we'll first create synthetic documents from our original data by chunking them \"naively\". Next, we'll create our question prompt for the OpenAI model, which will take this prompt and generate questions based on the synthetic documents (it will behave like a teacher trying to prepare questions for an exam). Then in order to be able to compare the generated answers with the real answers, we'll create also a ground truth prompt for the OpenAI model. This ground truth will always give the right answers because we extract the context from which the question was generated from and feed it to the ground truth prompt."
   ]
  },
  {
   "cell_type": "code",
   "execution_count": 79,
   "metadata": {},
   "outputs": [],
   "source": [
    "synthetic_data_splitter = RecursiveCharacterTextSplitter(\n",
    "    chunk_size=256,\n",
    "    chunk_overlap=0,\n",
    "    length_function=len,\n",
    "    is_separator_regex=False\n",
    ")\n",
    "\n",
    "synthetic_data_chunks = synthetic_data_splitter.create_documents([text_file['content']])"
   ]
  },
  {
   "cell_type": "code",
   "execution_count": 80,
   "metadata": {},
   "outputs": [],
   "source": [
    "questions = []\n",
    "ground_truths_semantic = []\n",
    "contexts = []\n",
    "answers = []"
   ]
  },
  {
   "cell_type": "markdown",
   "metadata": {},
   "source": [
    "We'll start with percentile chunking."
   ]
  },
  {
   "cell_type": "code",
   "execution_count": 81,
   "metadata": {},
   "outputs": [],
   "source": [
    "question_prompt = \"\"\"\\\n",
    "You are a teacher preparing a test. Please create a question that can be answered by referencing the following context.\n",
    "\n",
    "Context:\n",
    "{context}\n",
    "\"\"\"\n",
    "\n",
    "ground_truth_prompt = \"\"\"\\\n",
    "Use the following context and question to answer this question using *only* the provided context.\n",
    "\n",
    "Question:\n",
    "{question}\n",
    "\n",
    "Context:\n",
    "{context}\n",
    "\"\"\"\n",
    "\n",
    "question_prompt = ChatPromptTemplate.from_template(question_prompt)\n",
    "ground_truth_prompt = ChatPromptTemplate.from_template(ground_truth_prompt)\n",
    "\n",
    "question_chain = question_prompt | ChatOpenAI(model=\"gpt-3.5-turbo\") | StrOutputParser()\n",
    "ground_truth_chain = ground_truth_prompt | ChatOpenAI(model=\"gpt-4-turbo-preview\") | StrOutputParser()\n",
    "\n",
    "for chunk in synthetic_data_chunks[10:20]:\n",
    "  questions.append(question_chain.invoke({\"context\" : chunk.page_content}))\n",
    "  contexts.append([chunk.page_content])\n",
    "  ground_truths_semantic.append(ground_truth_chain.invoke({\"question\" : questions[-1], \"context\" : contexts[-1]}))\n",
    "  answers.append(percentile_rag_chain.invoke(questions[-1]))"
   ]
  },
  {
   "cell_type": "code",
   "execution_count": 82,
   "metadata": {},
   "outputs": [],
   "source": [
    "qagc_list = []\n",
    "\n",
    "for question, answer, context, ground_truth in zip(questions, answers, contexts, ground_truths_semantic):\n",
    "  qagc_list.append({\n",
    "      \"question\" : question,\n",
    "      \"answer\" : answer,\n",
    "      \"contexts\" : context,\n",
    "      \"ground_truth\" : ground_truth\n",
    "  })\n",
    "\n",
    "eval_dataset = Dataset.from_list(qagc_list)"
   ]
  },
  {
   "cell_type": "code",
   "execution_count": 83,
   "metadata": {},
   "outputs": [
    {
     "data": {
      "application/vnd.jupyter.widget-view+json": {
       "model_id": "b3887bbb95ed4b98bf15ea5c8a5d8e05",
       "version_major": 2,
       "version_minor": 0
      },
      "text/plain": [
       "Evaluating:   0%|          | 0/40 [00:00<?, ?it/s]"
      ]
     },
     "metadata": {},
     "output_type": "display_data"
    }
   ],
   "source": [
    "result = evaluate(eval_dataset, metrics=[context_precision,\n",
    "                                         faithfulness,\n",
    "                                         answer_relevancy,\n",
    "                                         context_recall]);"
   ]
  },
  {
   "cell_type": "code",
   "execution_count": 84,
   "metadata": {},
   "outputs": [
    {
     "data": {
      "text/html": [
       "<div>\n",
       "<style scoped>\n",
       "    .dataframe tbody tr th:only-of-type {\n",
       "        vertical-align: middle;\n",
       "    }\n",
       "\n",
       "    .dataframe tbody tr th {\n",
       "        vertical-align: top;\n",
       "    }\n",
       "\n",
       "    .dataframe thead th {\n",
       "        text-align: right;\n",
       "    }\n",
       "</style>\n",
       "<table border=\"1\" class=\"dataframe\">\n",
       "  <thead>\n",
       "    <tr style=\"text-align: right;\">\n",
       "      <th></th>\n",
       "      <th>question</th>\n",
       "      <th>answer</th>\n",
       "      <th>contexts</th>\n",
       "      <th>ground_truth</th>\n",
       "      <th>context_precision</th>\n",
       "      <th>faithfulness</th>\n",
       "      <th>answer_relevancy</th>\n",
       "      <th>context_recall</th>\n",
       "    </tr>\n",
       "  </thead>\n",
       "  <tbody>\n",
       "    <tr>\n",
       "      <th>0</th>\n",
       "      <td>Question: According to the context provided, w...</td>\n",
       "      <td>The principle emphasized in Article 2 of the D...</td>\n",
       "      <td>[spirit of brotherhood.  \\n\\nArticle 2  \\n\\nEv...</td>\n",
       "      <td>The principle emphasized in Article 2 of the D...</td>\n",
       "      <td>0.0</td>\n",
       "      <td>0.5</td>\n",
       "      <td>0.957460</td>\n",
       "      <td>0.0</td>\n",
       "    </tr>\n",
       "    <tr>\n",
       "      <th>1</th>\n",
       "      <td>Question: According to the provided context, w...</td>\n",
       "      <td>Answer: Factors such as race, nationality, rel...</td>\n",
       "      <td>[political or other opinion, national or socia...</td>\n",
       "      <td>According to the provided context, factors tha...</td>\n",
       "      <td>1.0</td>\n",
       "      <td>1.0</td>\n",
       "      <td>0.954312</td>\n",
       "      <td>1.0</td>\n",
       "    </tr>\n",
       "    <tr>\n",
       "      <th>2</th>\n",
       "      <td>Question: According to the context provided, w...</td>\n",
       "      <td>According to the context provided, the specifi...</td>\n",
       "      <td>[belongs, whether it be independent, trust, no...</td>\n",
       "      <td>According to the context provided, under Artic...</td>\n",
       "      <td>1.0</td>\n",
       "      <td>1.0</td>\n",
       "      <td>0.975967</td>\n",
       "      <td>1.0</td>\n",
       "    </tr>\n",
       "    <tr>\n",
       "      <th>3</th>\n",
       "      <td>Question: According to the context provided, w...</td>\n",
       "      <td>I don't know.</td>\n",
       "      <td>[No one shall be held in slavery or servitude;...</td>\n",
       "      <td>According to the context provided, under Artic...</td>\n",
       "      <td>1.0</td>\n",
       "      <td>1.0</td>\n",
       "      <td>0.000000</td>\n",
       "      <td>1.0</td>\n",
       "    </tr>\n",
       "    <tr>\n",
       "      <th>4</th>\n",
       "      <td>Question: According to the context provided, w...</td>\n",
       "      <td>According to the context provided, individuals...</td>\n",
       "      <td>[Everyone has the right to recognition everywh...</td>\n",
       "      <td>According to the context provided, individuals...</td>\n",
       "      <td>1.0</td>\n",
       "      <td>1.0</td>\n",
       "      <td>0.916578</td>\n",
       "      <td>1.0</td>\n",
       "    </tr>\n",
       "    <tr>\n",
       "      <th>5</th>\n",
       "      <td>Question: According to Article 8 of the Declar...</td>\n",
       "      <td>Answer: Everyone has the right to equal protec...</td>\n",
       "      <td>[discrimination in violation of this Declarati...</td>\n",
       "      <td>According to Article 8 of the Declaration, eve...</td>\n",
       "      <td>1.0</td>\n",
       "      <td>0.5</td>\n",
       "      <td>0.898954</td>\n",
       "      <td>1.0</td>\n",
       "    </tr>\n",
       "    <tr>\n",
       "      <th>6</th>\n",
       "      <td>Question: How does the constitution protect in...</td>\n",
       "      <td>The constitution protects individuals from arb...</td>\n",
       "      <td>[for acts violating the fundamental rights gra...</td>\n",
       "      <td>The constitution protects individuals from arb...</td>\n",
       "      <td>1.0</td>\n",
       "      <td>1.0</td>\n",
       "      <td>0.862841</td>\n",
       "      <td>1.0</td>\n",
       "    </tr>\n",
       "    <tr>\n",
       "      <th>7</th>\n",
       "      <td>Question: According to the context provided, w...</td>\n",
       "      <td>According to the context provided, Article 11 ...</td>\n",
       "      <td>[Everyone is entitled in full equality to a fa...</td>\n",
       "      <td>According to the context provided, Article 11 ...</td>\n",
       "      <td>1.0</td>\n",
       "      <td>1.0</td>\n",
       "      <td>0.906340</td>\n",
       "      <td>1.0</td>\n",
       "    </tr>\n",
       "    <tr>\n",
       "      <th>8</th>\n",
       "      <td>Question:\\nAccording to the context provided, ...</td>\n",
       "      <td>Everyone charged with a penal offence has the ...</td>\n",
       "      <td>[1. Everyone charged with a penal offence has ...</td>\n",
       "      <td>According to the context provided, everyone ch...</td>\n",
       "      <td>1.0</td>\n",
       "      <td>1.0</td>\n",
       "      <td>0.928532</td>\n",
       "      <td>1.0</td>\n",
       "    </tr>\n",
       "    <tr>\n",
       "      <th>9</th>\n",
       "      <td>Question:\\nAccording to the context provided, ...</td>\n",
       "      <td>The principle being described in relation to c...</td>\n",
       "      <td>[2. No one shall be held guilty of any penal o...</td>\n",
       "      <td>The principle being described in relation to c...</td>\n",
       "      <td>1.0</td>\n",
       "      <td>1.0</td>\n",
       "      <td>0.970546</td>\n",
       "      <td>1.0</td>\n",
       "    </tr>\n",
       "  </tbody>\n",
       "</table>\n",
       "</div>"
      ],
      "text/plain": [
       "                                            question  \\\n",
       "0  Question: According to the context provided, w...   \n",
       "1  Question: According to the provided context, w...   \n",
       "2  Question: According to the context provided, w...   \n",
       "3  Question: According to the context provided, w...   \n",
       "4  Question: According to the context provided, w...   \n",
       "5  Question: According to Article 8 of the Declar...   \n",
       "6  Question: How does the constitution protect in...   \n",
       "7  Question: According to the context provided, w...   \n",
       "8  Question:\\nAccording to the context provided, ...   \n",
       "9  Question:\\nAccording to the context provided, ...   \n",
       "\n",
       "                                              answer  \\\n",
       "0  The principle emphasized in Article 2 of the D...   \n",
       "1  Answer: Factors such as race, nationality, rel...   \n",
       "2  According to the context provided, the specifi...   \n",
       "3                                      I don't know.   \n",
       "4  According to the context provided, individuals...   \n",
       "5  Answer: Everyone has the right to equal protec...   \n",
       "6  The constitution protects individuals from arb...   \n",
       "7  According to the context provided, Article 11 ...   \n",
       "8  Everyone charged with a penal offence has the ...   \n",
       "9  The principle being described in relation to c...   \n",
       "\n",
       "                                            contexts  \\\n",
       "0  [spirit of brotherhood.  \\n\\nArticle 2  \\n\\nEv...   \n",
       "1  [political or other opinion, national or socia...   \n",
       "2  [belongs, whether it be independent, trust, no...   \n",
       "3  [No one shall be held in slavery or servitude;...   \n",
       "4  [Everyone has the right to recognition everywh...   \n",
       "5  [discrimination in violation of this Declarati...   \n",
       "6  [for acts violating the fundamental rights gra...   \n",
       "7  [Everyone is entitled in full equality to a fa...   \n",
       "8  [1. Everyone charged with a penal offence has ...   \n",
       "9  [2. No one shall be held guilty of any penal o...   \n",
       "\n",
       "                                        ground_truth  context_precision  \\\n",
       "0  The principle emphasized in Article 2 of the D...                0.0   \n",
       "1  According to the provided context, factors tha...                1.0   \n",
       "2  According to the context provided, under Artic...                1.0   \n",
       "3  According to the context provided, under Artic...                1.0   \n",
       "4  According to the context provided, individuals...                1.0   \n",
       "5  According to Article 8 of the Declaration, eve...                1.0   \n",
       "6  The constitution protects individuals from arb...                1.0   \n",
       "7  According to the context provided, Article 11 ...                1.0   \n",
       "8  According to the context provided, everyone ch...                1.0   \n",
       "9  The principle being described in relation to c...                1.0   \n",
       "\n",
       "   faithfulness  answer_relevancy  context_recall  \n",
       "0           0.5          0.957460             0.0  \n",
       "1           1.0          0.954312             1.0  \n",
       "2           1.0          0.975967             1.0  \n",
       "3           1.0          0.000000             1.0  \n",
       "4           1.0          0.916578             1.0  \n",
       "5           0.5          0.898954             1.0  \n",
       "6           1.0          0.862841             1.0  \n",
       "7           1.0          0.906340             1.0  \n",
       "8           1.0          0.928532             1.0  \n",
       "9           1.0          0.970546             1.0  "
      ]
     },
     "execution_count": 84,
     "metadata": {},
     "output_type": "execute_result"
    }
   ],
   "source": [
    "result_df = result.to_pandas()\n",
    "result_df"
   ]
  },
  {
   "cell_type": "code",
   "execution_count": 86,
   "metadata": {},
   "outputs": [
    {
     "name": "stdout",
     "output_type": "stream",
     "text": [
      "Metric: context_precision, score: 0.89999999991\n",
      "Metric: faithfulness, score: 0.9\n",
      "Metric: answer_relevancy, score: 0.8371529146590362\n",
      "Metric: context_recall, score: 0.9\n"
     ]
    }
   ],
   "source": [
    "for metric, score in result.items():\n",
    "    print(f\"Metric: {metric}, score: {score}\", end='\\n')"
   ]
  },
  {
   "cell_type": "code",
   "execution_count": 111,
   "metadata": {},
   "outputs": [
    {
     "name": "stdout",
     "output_type": "stream",
     "text": [
      "Question: According to the context provided, what principle is emphasized in Article 2 of the Declaration being referenced?\n",
      "Answer:  The principle emphasized in Article 2 of the Declaration is non-discrimination and equality, stating that everyone is entitled to all the rights and freedoms without any distinction based on various factors.\n",
      "Ground truth:  The principle emphasized in Article 2 of the Declaration being referenced is the principle of non-discrimination.\n",
      "Faithfulness:  0.5\n",
      "---------------------\n",
      "Question: According to Article 8 of the Declaration, what right does everyone have in regards to discrimination and incitement to discrimination?\n",
      "Answer:  Answer: Everyone has the right to equal protection against any discrimination and incitement to such discrimination according to Article 8 of the Declaration.\n",
      "Ground truth:  According to Article 8 of the Declaration, everyone has the right to an effective remedy by the competent national tribunals for acts of discrimination in violation of this Declaration and against any incitement to such discrimination.\n",
      "Faithfulness:  0.5\n",
      "---------------------\n"
     ]
    }
   ],
   "source": [
    "for _, row in result_df.query('faithfulness < 1').iterrows():\n",
    "    print(row.question, end='\\n')\n",
    "    print(\"Answer: \", row.answer, end='\\n')\n",
    "    print(\"Ground truth: \", row.ground_truth, end='\\n')\n",
    "    print(\"Faithfulness: \", row.faithfulness, end='\\n')\n",
    "    print('---------------------')"
   ]
  },
  {
   "cell_type": "markdown",
   "metadata": {},
   "source": [
    "Let's do the same things for manual chunking."
   ]
  },
  {
   "cell_type": "code",
   "execution_count": 87,
   "metadata": {},
   "outputs": [],
   "source": [
    "answers_manual = []\n",
    "\n",
    "for question in questions:\n",
    "  answers_manual.append(manual_rag_chain.invoke(question))"
   ]
  },
  {
   "cell_type": "code",
   "execution_count": 88,
   "metadata": {},
   "outputs": [],
   "source": [
    "qagc_manual = []\n",
    "\n",
    "for question, answer, context, ground_truth in zip(questions, answers_manual, contexts, ground_truths_semantic):\n",
    "  qagc_manual.append({\n",
    "      \"question\" : question,\n",
    "      \"answer\" : answer,\n",
    "      \"contexts\" : context,\n",
    "      \"ground_truth\" : ground_truth\n",
    "  })\n",
    "\n",
    "eval_dataset_manual = Dataset.from_list(qagc_manual)"
   ]
  },
  {
   "cell_type": "code",
   "execution_count": 89,
   "metadata": {},
   "outputs": [
    {
     "data": {
      "application/vnd.jupyter.widget-view+json": {
       "model_id": "fb3344aa92d54a48b0ec9d0dc236ec21",
       "version_major": 2,
       "version_minor": 0
      },
      "text/plain": [
       "Evaluating:   0%|          | 0/40 [00:00<?, ?it/s]"
      ]
     },
     "metadata": {},
     "output_type": "display_data"
    }
   ],
   "source": [
    "result_manual = evaluate(eval_dataset_manual, metrics=[context_precision,\n",
    "                                         faithfulness,\n",
    "                                         answer_relevancy,\n",
    "                                         context_recall])"
   ]
  },
  {
   "cell_type": "code",
   "execution_count": 93,
   "metadata": {},
   "outputs": [
    {
     "data": {
      "text/html": [
       "<div>\n",
       "<style scoped>\n",
       "    .dataframe tbody tr th:only-of-type {\n",
       "        vertical-align: middle;\n",
       "    }\n",
       "\n",
       "    .dataframe tbody tr th {\n",
       "        vertical-align: top;\n",
       "    }\n",
       "\n",
       "    .dataframe thead th {\n",
       "        text-align: right;\n",
       "    }\n",
       "</style>\n",
       "<table border=\"1\" class=\"dataframe\">\n",
       "  <thead>\n",
       "    <tr style=\"text-align: right;\">\n",
       "      <th></th>\n",
       "      <th>question</th>\n",
       "      <th>answer</th>\n",
       "      <th>contexts</th>\n",
       "      <th>ground_truth</th>\n",
       "      <th>context_precision</th>\n",
       "      <th>faithfulness</th>\n",
       "      <th>answer_relevancy</th>\n",
       "      <th>context_recall</th>\n",
       "    </tr>\n",
       "  </thead>\n",
       "  <tbody>\n",
       "    <tr>\n",
       "      <th>0</th>\n",
       "      <td>Question: According to the context provided, w...</td>\n",
       "      <td>The principle of non-discrimination is emphasi...</td>\n",
       "      <td>[spirit of brotherhood.  \\n\\nArticle 2  \\n\\nEv...</td>\n",
       "      <td>The principle emphasized in Article 2 of the D...</td>\n",
       "      <td>0.0</td>\n",
       "      <td>1.000000</td>\n",
       "      <td>0.871105</td>\n",
       "      <td>0.0</td>\n",
       "    </tr>\n",
       "    <tr>\n",
       "      <th>1</th>\n",
       "      <td>Question: According to the provided context, w...</td>\n",
       "      <td>According to the provided context, factors suc...</td>\n",
       "      <td>[political or other opinion, national or socia...</td>\n",
       "      <td>According to the provided context, factors tha...</td>\n",
       "      <td>1.0</td>\n",
       "      <td>0.700000</td>\n",
       "      <td>0.971180</td>\n",
       "      <td>1.0</td>\n",
       "    </tr>\n",
       "    <tr>\n",
       "      <th>2</th>\n",
       "      <td>Question: According to the context provided, w...</td>\n",
       "      <td>The specific rights guaranteed to everyone und...</td>\n",
       "      <td>[belongs, whether it be independent, trust, no...</td>\n",
       "      <td>According to the context provided, under Artic...</td>\n",
       "      <td>1.0</td>\n",
       "      <td>1.000000</td>\n",
       "      <td>0.975967</td>\n",
       "      <td>1.0</td>\n",
       "    </tr>\n",
       "    <tr>\n",
       "      <th>3</th>\n",
       "      <td>Question: According to the context provided, w...</td>\n",
       "      <td>I don't know.</td>\n",
       "      <td>[No one shall be held in slavery or servitude;...</td>\n",
       "      <td>According to the context provided, under Artic...</td>\n",
       "      <td>1.0</td>\n",
       "      <td>1.000000</td>\n",
       "      <td>0.000000</td>\n",
       "      <td>1.0</td>\n",
       "    </tr>\n",
       "    <tr>\n",
       "      <th>4</th>\n",
       "      <td>Question: According to the context provided, w...</td>\n",
       "      <td>Answer: The fundamental right that individuals...</td>\n",
       "      <td>[Everyone has the right to recognition everywh...</td>\n",
       "      <td>According to the context provided, individuals...</td>\n",
       "      <td>1.0</td>\n",
       "      <td>1.000000</td>\n",
       "      <td>0.967665</td>\n",
       "      <td>1.0</td>\n",
       "    </tr>\n",
       "    <tr>\n",
       "      <th>5</th>\n",
       "      <td>Question: According to Article 8 of the Declar...</td>\n",
       "      <td>Answer: According to Article 8 of the Declarat...</td>\n",
       "      <td>[discrimination in violation of this Declarati...</td>\n",
       "      <td>According to Article 8 of the Declaration, eve...</td>\n",
       "      <td>1.0</td>\n",
       "      <td>1.000000</td>\n",
       "      <td>0.901003</td>\n",
       "      <td>1.0</td>\n",
       "    </tr>\n",
       "    <tr>\n",
       "      <th>6</th>\n",
       "      <td>Question: How does the constitution protect in...</td>\n",
       "      <td>The constitution protects individuals from arb...</td>\n",
       "      <td>[for acts violating the fundamental rights gra...</td>\n",
       "      <td>The constitution protects individuals from arb...</td>\n",
       "      <td>1.0</td>\n",
       "      <td>0.333333</td>\n",
       "      <td>0.964884</td>\n",
       "      <td>1.0</td>\n",
       "    </tr>\n",
       "    <tr>\n",
       "      <th>7</th>\n",
       "      <td>Question: According to the context provided, w...</td>\n",
       "      <td>According to the context provided, Article 11 ...</td>\n",
       "      <td>[Everyone is entitled in full equality to a fa...</td>\n",
       "      <td>According to the context provided, Article 11 ...</td>\n",
       "      <td>1.0</td>\n",
       "      <td>1.000000</td>\n",
       "      <td>0.943339</td>\n",
       "      <td>1.0</td>\n",
       "    </tr>\n",
       "    <tr>\n",
       "      <th>8</th>\n",
       "      <td>Question:\\nAccording to the context provided, ...</td>\n",
       "      <td>According to the context provided, everyone ch...</td>\n",
       "      <td>[1. Everyone charged with a penal offence has ...</td>\n",
       "      <td>According to the context provided, everyone ch...</td>\n",
       "      <td>1.0</td>\n",
       "      <td>1.000000</td>\n",
       "      <td>0.943714</td>\n",
       "      <td>1.0</td>\n",
       "    </tr>\n",
       "    <tr>\n",
       "      <th>9</th>\n",
       "      <td>Question:\\nAccording to the context provided, ...</td>\n",
       "      <td>The principle being described in relation to c...</td>\n",
       "      <td>[2. No one shall be held guilty of any penal o...</td>\n",
       "      <td>The principle being described in relation to c...</td>\n",
       "      <td>1.0</td>\n",
       "      <td>0.666667</td>\n",
       "      <td>0.967770</td>\n",
       "      <td>1.0</td>\n",
       "    </tr>\n",
       "  </tbody>\n",
       "</table>\n",
       "</div>"
      ],
      "text/plain": [
       "                                            question  \\\n",
       "0  Question: According to the context provided, w...   \n",
       "1  Question: According to the provided context, w...   \n",
       "2  Question: According to the context provided, w...   \n",
       "3  Question: According to the context provided, w...   \n",
       "4  Question: According to the context provided, w...   \n",
       "5  Question: According to Article 8 of the Declar...   \n",
       "6  Question: How does the constitution protect in...   \n",
       "7  Question: According to the context provided, w...   \n",
       "8  Question:\\nAccording to the context provided, ...   \n",
       "9  Question:\\nAccording to the context provided, ...   \n",
       "\n",
       "                                              answer  \\\n",
       "0  The principle of non-discrimination is emphasi...   \n",
       "1  According to the provided context, factors suc...   \n",
       "2  The specific rights guaranteed to everyone und...   \n",
       "3                                      I don't know.   \n",
       "4  Answer: The fundamental right that individuals...   \n",
       "5  Answer: According to Article 8 of the Declarat...   \n",
       "6  The constitution protects individuals from arb...   \n",
       "7  According to the context provided, Article 11 ...   \n",
       "8  According to the context provided, everyone ch...   \n",
       "9  The principle being described in relation to c...   \n",
       "\n",
       "                                            contexts  \\\n",
       "0  [spirit of brotherhood.  \\n\\nArticle 2  \\n\\nEv...   \n",
       "1  [political or other opinion, national or socia...   \n",
       "2  [belongs, whether it be independent, trust, no...   \n",
       "3  [No one shall be held in slavery or servitude;...   \n",
       "4  [Everyone has the right to recognition everywh...   \n",
       "5  [discrimination in violation of this Declarati...   \n",
       "6  [for acts violating the fundamental rights gra...   \n",
       "7  [Everyone is entitled in full equality to a fa...   \n",
       "8  [1. Everyone charged with a penal offence has ...   \n",
       "9  [2. No one shall be held guilty of any penal o...   \n",
       "\n",
       "                                        ground_truth  context_precision  \\\n",
       "0  The principle emphasized in Article 2 of the D...                0.0   \n",
       "1  According to the provided context, factors tha...                1.0   \n",
       "2  According to the context provided, under Artic...                1.0   \n",
       "3  According to the context provided, under Artic...                1.0   \n",
       "4  According to the context provided, individuals...                1.0   \n",
       "5  According to Article 8 of the Declaration, eve...                1.0   \n",
       "6  The constitution protects individuals from arb...                1.0   \n",
       "7  According to the context provided, Article 11 ...                1.0   \n",
       "8  According to the context provided, everyone ch...                1.0   \n",
       "9  The principle being described in relation to c...                1.0   \n",
       "\n",
       "   faithfulness  answer_relevancy  context_recall  \n",
       "0      1.000000          0.871105             0.0  \n",
       "1      0.700000          0.971180             1.0  \n",
       "2      1.000000          0.975967             1.0  \n",
       "3      1.000000          0.000000             1.0  \n",
       "4      1.000000          0.967665             1.0  \n",
       "5      1.000000          0.901003             1.0  \n",
       "6      0.333333          0.964884             1.0  \n",
       "7      1.000000          0.943339             1.0  \n",
       "8      1.000000          0.943714             1.0  \n",
       "9      0.666667          0.967770             1.0  "
      ]
     },
     "execution_count": 93,
     "metadata": {},
     "output_type": "execute_result"
    }
   ],
   "source": [
    "result_manual_df = result_manual.to_pandas()\n",
    "result_manual_df"
   ]
  },
  {
   "cell_type": "code",
   "execution_count": 94,
   "metadata": {},
   "outputs": [
    {
     "name": "stdout",
     "output_type": "stream",
     "text": [
      "Metric: context_precision, score: 0.89999999991\n",
      "Metric: faithfulness, score: 0.8699999999999999\n",
      "Metric: answer_relevancy, score: 0.8506626506289852\n",
      "Metric: context_recall, score: 0.9\n"
     ]
    }
   ],
   "source": [
    "for metric, score in result_manual.items():\n",
    "    print(f\"Metric: {metric}, score: {score}\", end='\\n')"
   ]
  },
  {
   "cell_type": "code",
   "execution_count": 95,
   "metadata": {},
   "outputs": [
    {
     "data": {
      "text/html": [
       "<div>\n",
       "<style scoped>\n",
       "    .dataframe tbody tr th:only-of-type {\n",
       "        vertical-align: middle;\n",
       "    }\n",
       "\n",
       "    .dataframe tbody tr th {\n",
       "        vertical-align: top;\n",
       "    }\n",
       "\n",
       "    .dataframe thead th {\n",
       "        text-align: right;\n",
       "    }\n",
       "</style>\n",
       "<table border=\"1\" class=\"dataframe\">\n",
       "  <thead>\n",
       "    <tr style=\"text-align: right;\">\n",
       "      <th></th>\n",
       "      <th>question</th>\n",
       "      <th>answer</th>\n",
       "      <th>contexts</th>\n",
       "      <th>ground_truth</th>\n",
       "      <th>context_precision</th>\n",
       "      <th>faithfulness</th>\n",
       "      <th>answer_relevancy</th>\n",
       "      <th>context_recall</th>\n",
       "    </tr>\n",
       "  </thead>\n",
       "  <tbody>\n",
       "    <tr>\n",
       "      <th>1</th>\n",
       "      <td>Question: According to the provided context, w...</td>\n",
       "      <td>According to the provided context, factors suc...</td>\n",
       "      <td>[political or other opinion, national or socia...</td>\n",
       "      <td>According to the provided context, factors tha...</td>\n",
       "      <td>1.0</td>\n",
       "      <td>0.700000</td>\n",
       "      <td>0.971180</td>\n",
       "      <td>1.0</td>\n",
       "    </tr>\n",
       "    <tr>\n",
       "      <th>6</th>\n",
       "      <td>Question: How does the constitution protect in...</td>\n",
       "      <td>The constitution protects individuals from arb...</td>\n",
       "      <td>[for acts violating the fundamental rights gra...</td>\n",
       "      <td>The constitution protects individuals from arb...</td>\n",
       "      <td>1.0</td>\n",
       "      <td>0.333333</td>\n",
       "      <td>0.964884</td>\n",
       "      <td>1.0</td>\n",
       "    </tr>\n",
       "    <tr>\n",
       "      <th>9</th>\n",
       "      <td>Question:\\nAccording to the context provided, ...</td>\n",
       "      <td>The principle being described in relation to c...</td>\n",
       "      <td>[2. No one shall be held guilty of any penal o...</td>\n",
       "      <td>The principle being described in relation to c...</td>\n",
       "      <td>1.0</td>\n",
       "      <td>0.666667</td>\n",
       "      <td>0.967770</td>\n",
       "      <td>1.0</td>\n",
       "    </tr>\n",
       "  </tbody>\n",
       "</table>\n",
       "</div>"
      ],
      "text/plain": [
       "                                            question  \\\n",
       "1  Question: According to the provided context, w...   \n",
       "6  Question: How does the constitution protect in...   \n",
       "9  Question:\\nAccording to the context provided, ...   \n",
       "\n",
       "                                              answer  \\\n",
       "1  According to the provided context, factors suc...   \n",
       "6  The constitution protects individuals from arb...   \n",
       "9  The principle being described in relation to c...   \n",
       "\n",
       "                                            contexts  \\\n",
       "1  [political or other opinion, national or socia...   \n",
       "6  [for acts violating the fundamental rights gra...   \n",
       "9  [2. No one shall be held guilty of any penal o...   \n",
       "\n",
       "                                        ground_truth  context_precision  \\\n",
       "1  According to the provided context, factors tha...                1.0   \n",
       "6  The constitution protects individuals from arb...                1.0   \n",
       "9  The principle being described in relation to c...                1.0   \n",
       "\n",
       "   faithfulness  answer_relevancy  context_recall  \n",
       "1      0.700000          0.971180             1.0  \n",
       "6      0.333333          0.964884             1.0  \n",
       "9      0.666667          0.967770             1.0  "
      ]
     },
     "execution_count": 95,
     "metadata": {},
     "output_type": "execute_result"
    }
   ],
   "source": [
    "result_manual_df.query('faithfulness < 1')"
   ]
  },
  {
   "cell_type": "code",
   "execution_count": 96,
   "metadata": {},
   "outputs": [
    {
     "name": "stdout",
     "output_type": "stream",
     "text": [
      "Question: According to the provided context, what factors should not be used to discriminate against individuals?\n",
      "Answer:  According to the provided context, factors such as race, color, sex, language, religion, political or other opinion, national or social origin, property, birth, or other status should not be used to discriminate against individuals.\n",
      "Ground truth:  According to the provided context, factors that should not be used to discriminate against individuals include political or other opinion, national or social origin, property, birth, or other status. Additionally, no distinction shall be made based on the political, jurisdictional, or international status of the country or territory to which a person belongs.\n",
      "Faithfulness:  0.7\n",
      "---------------------\n",
      "Question: How does the constitution protect individuals from arbitrary actions such as arrest, detention, or exile?\n",
      "Answer:  The constitution protects individuals from arbitrary actions such as arrest, detention, or exile by stating that no one shall be subjected to arbitrary arrest, detention, or exile. It also guarantees the right to life, liberty, and security of person, as well as protection against arbitrary interference with privacy, family, home, or correspondence. Additionally, individuals have the right to own property and cannot be arbitrarily deprived of it.\n",
      "Ground truth:  The constitution protects individuals from arbitrary actions such as arrest, detention, or exile through Article 9, which explicitly states that \"No one shall be subjected to arbitrary arrest, detention or exile.\"\n",
      "Faithfulness:  0.3333333333333333\n",
      "---------------------\n",
      "Question:\n",
      "According to the context provided, what principle is being described in relation to criminal offenses committed in the past?\n",
      "Answer:  The principle being described in relation to criminal offenses committed in the past is the principle of non-retroactivity of criminal law. This means that individuals cannot be held guilty of a penal offense for an act that was not considered a crime at the time it was committed, and they cannot be subjected to a heavier penalty than what was applicable at the time of the offense.\n",
      "Ground truth:  The principle being described in relation to criminal offenses committed in the past is the principle of legality, specifically that no one shall be found guilty of a crime for actions that were not considered criminal under national or international law at the time they were committed. This includes the prohibition against retroactive application of criminal law to impose a heavier penalty than what was applicable at the time the act was committed.\n",
      "Faithfulness:  0.6666666666666666\n",
      "---------------------\n"
     ]
    }
   ],
   "source": [
    "for _, row in result_manual_df.query('faithfulness < 1').iterrows():\n",
    "    print(row.question, end='\\n')\n",
    "    print(\"Answer: \", row.answer, end='\\n')\n",
    "    print(\"Ground truth: \", row.ground_truth, end='\\n')\n",
    "    print(\"Faithfulness: \", row.faithfulness, end='\\n')\n",
    "    print('---------------------')"
   ]
  },
  {
   "cell_type": "code",
   "execution_count": 112,
   "metadata": {},
   "outputs": [
    {
     "data": {
      "image/png": "[encoded data removed]",
      "text/plain": [
       "<Figure size 1200x600 with 2 Axes>"
      ]
     },
     "metadata": {},
     "output_type": "display_data"
    }
   ],
   "source": [
    "fig, axes = plt.subplots(1, 2, figsize=(12, 6))\n",
    "axes[0].bar(list(result.keys()), list(result.values()))\n",
    "axes[1].bar(list(result_manual.keys()), list(result_manual.values()))\n",
    "axes[0].tick_params(labelrotation=90)\n",
    "axes[1].tick_params(labelrotation=90)\n",
    "axes[0].set_title(\"Percentile Chunking\")\n",
    "axes[1].set_title(\"Manual Chunking\")\n",
    "axes[0].set_ylabel(\"Scores\")\n",
    "axes[1].set_ylabel(\"Scores\")\n",
    "plt.show()"
   ]
  },
  {
   "cell_type": "markdown",
   "metadata": {},
   "source": [
    "Let's now compare all of the chunking methods in order to choose the best among them for our next dataset."
   ]
  },
  {
   "cell_type": "code",
   "execution_count": 113,
   "metadata": {},
   "outputs": [],
   "source": [
    "answers_quartile = []\n",
    "\n",
    "for question in questions:\n",
    "  answers_quartile.append(interquartile_rag_chain.invoke(question))"
   ]
  },
  {
   "cell_type": "code",
   "execution_count": 114,
   "metadata": {},
   "outputs": [],
   "source": [
    "qagc_quartile = []\n",
    "\n",
    "for question, answer, context, ground_truth in zip(questions, answers_quartile, contexts, ground_truths_semantic):\n",
    "  qagc_quartile.append({\n",
    "      \"question\" : question,\n",
    "      \"answer\" : answer,\n",
    "      \"contexts\" : context,\n",
    "      \"ground_truth\" : ground_truth\n",
    "  })\n",
    "\n",
    "eval_dataset_quartile = Dataset.from_list(qagc_quartile)"
   ]
  },
  {
   "cell_type": "code",
   "execution_count": 115,
   "metadata": {},
   "outputs": [
    {
     "data": {
      "application/vnd.jupyter.widget-view+json": {
       "model_id": "eac8e481e1b747c1a2693026fd41cc1d",
       "version_major": 2,
       "version_minor": 0
      },
      "text/plain": [
       "Evaluating:   0%|          | 0/40 [00:00<?, ?it/s]"
      ]
     },
     "metadata": {},
     "output_type": "display_data"
    }
   ],
   "source": [
    "result_quartile = evaluate(eval_dataset_quartile, metrics=[context_precision,\n",
    "                                         faithfulness,\n",
    "                                         answer_relevancy,\n",
    "                                         context_recall])"
   ]
  },
  {
   "cell_type": "code",
   "execution_count": 116,
   "metadata": {},
   "outputs": [],
   "source": [
    "answers_naive = []\n",
    "\n",
    "for question in questions:\n",
    "  answers_naive.append(naive_rag_chain.invoke(question))"
   ]
  },
  {
   "cell_type": "code",
   "execution_count": 117,
   "metadata": {},
   "outputs": [],
   "source": [
    "qagc_naive = []\n",
    "\n",
    "for question, answer, context, ground_truth in zip(questions, answers_naive, contexts, ground_truths_semantic):\n",
    "  qagc_naive.append({\n",
    "      \"question\" : question,\n",
    "      \"answer\" : answer,\n",
    "      \"contexts\" : context,\n",
    "      \"ground_truth\" : ground_truth\n",
    "  })\n",
    "\n",
    "eval_dataset_naive = Dataset.from_list(qagc_naive)"
   ]
  },
  {
   "cell_type": "code",
   "execution_count": 118,
   "metadata": {},
   "outputs": [
    {
     "data": {
      "application/vnd.jupyter.widget-view+json": {
       "model_id": "014b0aa3b0654b0dbda4d3f5d73e1731",
       "version_major": 2,
       "version_minor": 0
      },
      "text/plain": [
       "Evaluating:   0%|          | 0/40 [00:00<?, ?it/s]"
      ]
     },
     "metadata": {},
     "output_type": "display_data"
    }
   ],
   "source": [
    "result_naive = evaluate(eval_dataset_naive, metrics=[context_precision,\n",
    "                                         faithfulness,\n",
    "                                         answer_relevancy,\n",
    "                                         context_recall])"
   ]
  },
  {
   "cell_type": "code",
   "execution_count": 119,
   "metadata": {},
   "outputs": [
    {
     "name": "stdout",
     "output_type": "stream",
     "text": [
      "Metric: context_precision, score: 0.89999999991\n",
      "Metric: faithfulness, score: 0.8557142857142856\n",
      "Metric: answer_relevancy, score: 0.9263559279295326\n",
      "Metric: context_recall, score: 0.9\n"
     ]
    }
   ],
   "source": [
    "for metric, score in result_quartile.items():\n",
    "    print(f\"Metric: {metric}, score: {score}\", end='\\n')"
   ]
  },
  {
   "cell_type": "code",
   "execution_count": 120,
   "metadata": {},
   "outputs": [
    {
     "name": "stdout",
     "output_type": "stream",
     "text": [
      "Metric: context_precision, score: 0.89999999991\n",
      "Metric: faithfulness, score: 0.9400000000000001\n",
      "Metric: answer_relevancy, score: 0.8506374851518224\n",
      "Metric: context_recall, score: 0.9\n"
     ]
    }
   ],
   "source": [
    "for metric, score in result_naive.items():\n",
    "    print(f\"Metric: {metric}, score: {score}\", end='\\n')"
   ]
  },
  {
   "cell_type": "markdown",
   "metadata": {},
   "source": [
    "Seems like naive chunking performs the best. Let's choose it for further analysing other datasets."
   ]
  },
  {
   "cell_type": "markdown",
   "metadata": {},
   "source": [
    "## Magna Carta"
   ]
  },
  {
   "cell_type": "markdown",
   "metadata": {},
   "source": [
    "The text was preprocessed; the header and page numbers were removed."
   ]
  },
  {
   "cell_type": "code",
   "execution_count": 126,
   "metadata": {},
   "outputs": [
    {
     "name": "stdout",
     "output_type": "stream",
     "text": [
      "Preamble: John, by the grace of God, king of England, lord of Ireland, duke of Normandy and Aquitain\n"
     ]
    }
   ],
   "source": [
    "magna_carta = parser.from_file(\"datasets/Magna Carta.pdf\")\n",
    "print(magna_carta['content'].replace('\\n', '')[:100])"
   ]
  },
  {
   "cell_type": "markdown",
   "metadata": {},
   "source": [
    "### Chunking"
   ]
  },
  {
   "cell_type": "markdown",
   "metadata": {},
   "source": [
    "In the first part, we saw that naive chunking results in a better performance compared to others (though the differences are too small)."
   ]
  },
  {
   "cell_type": "code",
   "execution_count": 127,
   "metadata": {},
   "outputs": [
    {
     "data": {
      "text/html": [
       "<div>\n",
       "<style scoped>\n",
       "    .dataframe tbody tr th:only-of-type {\n",
       "        vertical-align: middle;\n",
       "    }\n",
       "\n",
       "    .dataframe tbody tr th {\n",
       "        vertical-align: top;\n",
       "    }\n",
       "\n",
       "    .dataframe thead th {\n",
       "        text-align: right;\n",
       "    }\n",
       "</style>\n",
       "<table border=\"1\" class=\"dataframe\">\n",
       "  <thead>\n",
       "    <tr style=\"text-align: right;\">\n",
       "      <th></th>\n",
       "      <th>0</th>\n",
       "    </tr>\n",
       "  </thead>\n",
       "  <tbody>\n",
       "    <tr>\n",
       "      <th>0</th>\n",
       "      <td>Preamble:</td>\n",
       "    </tr>\n",
       "    <tr>\n",
       "      <th>1</th>\n",
       "      <td>John, by the grace of God, king of England, lo...</td>\n",
       "    </tr>\n",
       "    <tr>\n",
       "      <th>2</th>\n",
       "      <td>stewards, servants, and to all his bailiffs an...</td>\n",
       "    </tr>\n",
       "    <tr>\n",
       "      <th>3</th>\n",
       "      <td>God and the advancement of his holy Church and...</td>\n",
       "    </tr>\n",
       "    <tr>\n",
       "      <th>4</th>\n",
       "      <td>England and cardinal of the holy Roman Church,...</td>\n",
       "    </tr>\n",
       "  </tbody>\n",
       "</table>\n",
       "</div>"
      ],
      "text/plain": [
       "                                                   0\n",
       "0                                          Preamble:\n",
       "1  John, by the grace of God, king of England, lo...\n",
       "2  stewards, servants, and to all his bailiffs an...\n",
       "3  God and the advancement of his holy Church and...\n",
       "4  England and cardinal of the holy Roman Church,..."
      ]
     },
     "execution_count": 127,
     "metadata": {},
     "output_type": "execute_result"
    }
   ],
   "source": [
    "naive_chunker = RecursiveCharacterTextSplitter(\n",
    "    chunk_size=256,\n",
    "    chunk_overlap=0,\n",
    "    length_function=len,\n",
    "    is_separator_regex=False\n",
    ")\n",
    "\n",
    "naive_chunks = naive_chunker.split_text(magna_carta['content'])\n",
    "naive_chunks_df = pd.DataFrame(naive_chunks)\n",
    "naive_chunks_df.head()"
   ]
  },
  {
   "cell_type": "markdown",
   "metadata": {},
   "source": [
    "### Model Definition"
   ]
  },
  {
   "cell_type": "markdown",
   "metadata": {},
   "source": [
    "We will apply the same model defined in the first part."
   ]
  },
  {
   "cell_type": "code",
   "execution_count": 130,
   "metadata": {},
   "outputs": [],
   "source": [
    "rag_template = \"\"\"\\\n",
    "Use the following context to answer the user's query. If you cannot answer, please respond with 'I don't know'.\n",
    "\n",
    "User's Query:\n",
    "{question}\n",
    "\n",
    "Context:\n",
    "{context}\n",
    "\"\"\"\n",
    "\n",
    "rag_prompt = ChatPromptTemplate.from_template(rag_template)"
   ]
  },
  {
   "cell_type": "code",
   "execution_count": 131,
   "metadata": {},
   "outputs": [],
   "source": [
    "naive_vectorstore = FAISS.from_texts(naive_chunks, embedding=OpenAIEmbeddings(model=\"text-embedding-3-large\"))\n",
    "naive_retriever = naive_vectorstore.as_retriever(search_kwargs={\"k\" : 4})"
   ]
  },
  {
   "cell_type": "code",
   "execution_count": 132,
   "metadata": {},
   "outputs": [],
   "source": [
    "base_model = ChatOpenAI()"
   ]
  },
  {
   "cell_type": "code",
   "execution_count": 133,
   "metadata": {},
   "outputs": [],
   "source": [
    "naive_rag_chain = (\n",
    "    {\"context\" : naive_retriever, \"question\" : RunnablePassthrough()}\n",
    "    | rag_prompt\n",
    "    | base_model\n",
    "    | StrOutputParser()\n",
    ")"
   ]
  },
  {
   "cell_type": "markdown",
   "metadata": {},
   "source": [
    "### Testing with random questions"
   ]
  },
  {
   "cell_type": "code",
   "execution_count": 135,
   "metadata": {},
   "outputs": [
    {
     "name": "stdout",
     "output_type": "stream",
     "text": [
      "The question is: Where should common pleas be held?\n",
      "\n",
      "The answer of naive chunking is: Common pleas should be held in some fixed place, not following the court.\n"
     ]
    }
   ],
   "source": [
    "# Test 1\n",
    "question = \"Where should common pleas be held?\"\n",
    "\n",
    "naive_answer_1 = naive_rag_chain.invoke(question)\n",
    "\n",
    "print(f\"The question is: {question}\")\n",
    "print(f\"\\nThe answer of naive chunking is: {naive_answer_1}\")"
   ]
  },
  {
   "cell_type": "code",
   "execution_count": 137,
   "metadata": {},
   "outputs": [
    {
     "name": "stdout",
     "output_type": "stream",
     "text": [
      "The question is: When are the foreign born knights banished?\n",
      "\n",
      "The answer of naive chunking is: When peace is restored, the foreign born knights are banished from the kingdom.\n"
     ]
    }
   ],
   "source": [
    "# Test 2\n",
    "question = \"When are the foreign born knights banished?\"\n",
    "\n",
    "naive_answer_2 = naive_rag_chain.invoke(question)\n",
    "\n",
    "print(f\"The question is: {question}\")\n",
    "print(f\"\\nThe answer of naive chunking is: {naive_answer_2}\")"
   ]
  },
  {
   "cell_type": "markdown",
   "metadata": {},
   "source": [
    "Our model answers correctly all the questions. Let's evaluate it on sets of questions generated by OpenAI."
   ]
  },
  {
   "cell_type": "markdown",
   "metadata": {},
   "source": [
    "### Model evaluation"
   ]
  },
  {
   "cell_type": "code",
   "execution_count": 155,
   "metadata": {},
   "outputs": [],
   "source": [
    "synthetic_data_splitter = RecursiveCharacterTextSplitter(\n",
    "    chunk_size=256,\n",
    "    chunk_overlap=0,\n",
    "    length_function=len,\n",
    "    is_separator_regex=False\n",
    ")\n",
    "\n",
    "synthetic_data_chunks = synthetic_data_splitter.create_documents([magna_carta['content']])"
   ]
  },
  {
   "cell_type": "code",
   "execution_count": 156,
   "metadata": {},
   "outputs": [],
   "source": [
    "questions = []\n",
    "ground_truths_semantic = []\n",
    "contexts = []\n",
    "answers = []"
   ]
  },
  {
   "cell_type": "code",
   "execution_count": 157,
   "metadata": {},
   "outputs": [],
   "source": [
    "question_prompt = \"\"\"\\\n",
    "You are a teacher preparing a test. Please create a question that can be answered by referencing the following context.\n",
    "\n",
    "Context:\n",
    "{context}\n",
    "\"\"\"\n",
    "\n",
    "ground_truth_prompt = \"\"\"\\\n",
    "Use the following context and question to answer this question using *only* the provided context.\n",
    "\n",
    "Question:\n",
    "{question}\n",
    "\n",
    "Context:\n",
    "{context}\n",
    "\"\"\"\n",
    "\n",
    "question_prompt = ChatPromptTemplate.from_template(question_prompt)\n",
    "ground_truth_prompt = ChatPromptTemplate.from_template(ground_truth_prompt)\n",
    "\n",
    "question_chain = question_prompt | ChatOpenAI(model=\"gpt-3.5-turbo\") | StrOutputParser()\n",
    "ground_truth_chain = ground_truth_prompt | ChatOpenAI(model=\"gpt-4-turbo-preview\") | StrOutputParser()\n",
    "\n",
    "for chunk in synthetic_data_chunks[:15]:\n",
    "  questions.append(question_chain.invoke({\"context\" : chunk.page_content}))\n",
    "  contexts.append([chunk.page_content])\n",
    "  ground_truths_semantic.append(ground_truth_chain.invoke({\"question\" : questions[-1], \"context\" : contexts[-1]}))\n",
    "  answers.append(percentile_rag_chain.invoke(questions[-1]))"
   ]
  },
  {
   "cell_type": "code",
   "execution_count": 158,
   "metadata": {},
   "outputs": [],
   "source": [
    "qagc_list = []\n",
    "\n",
    "for question, answer, context, ground_truth in zip(questions, answers, contexts, ground_truths_semantic):\n",
    "  qagc_list.append({\n",
    "      \"question\" : question,\n",
    "      \"answer\" : answer,\n",
    "      \"contexts\" : context,\n",
    "      \"ground_truth\" : ground_truth\n",
    "  })\n",
    "\n",
    "eval_dataset = Dataset.from_list(qagc_list)"
   ]
  },
  {
   "cell_type": "code",
   "execution_count": 159,
   "metadata": {},
   "outputs": [
    {
     "data": {
      "application/vnd.jupyter.widget-view+json": {
       "model_id": "1f5c379325bc4efcad63b6322021fef8",
       "version_major": 2,
       "version_minor": 0
      },
      "text/plain": [
       "Evaluating:   0%|          | 0/60 [00:00<?, ?it/s]"
      ]
     },
     "metadata": {},
     "output_type": "display_data"
    },
    {
     "name": "stderr",
     "output_type": "stream",
     "text": [
      "No statements were generated from the answer.\n",
      "No statements were generated from the answer.\n"
     ]
    }
   ],
   "source": [
    "result = evaluate(eval_dataset, metrics=[context_precision,\n",
    "                                         faithfulness,\n",
    "                                         answer_relevancy,\n",
    "                                         context_recall]);"
   ]
  },
  {
   "cell_type": "code",
   "execution_count": 160,
   "metadata": {},
   "outputs": [
    {
     "data": {
      "text/html": [
       "<div>\n",
       "<style scoped>\n",
       "    .dataframe tbody tr th:only-of-type {\n",
       "        vertical-align: middle;\n",
       "    }\n",
       "\n",
       "    .dataframe tbody tr th {\n",
       "        vertical-align: top;\n",
       "    }\n",
       "\n",
       "    .dataframe thead th {\n",
       "        text-align: right;\n",
       "    }\n",
       "</style>\n",
       "<table border=\"1\" class=\"dataframe\">\n",
       "  <thead>\n",
       "    <tr style=\"text-align: right;\">\n",
       "      <th></th>\n",
       "      <th>question</th>\n",
       "      <th>answer</th>\n",
       "      <th>contexts</th>\n",
       "      <th>ground_truth</th>\n",
       "      <th>context_precision</th>\n",
       "      <th>faithfulness</th>\n",
       "      <th>answer_relevancy</th>\n",
       "      <th>context_recall</th>\n",
       "    </tr>\n",
       "  </thead>\n",
       "  <tbody>\n",
       "    <tr>\n",
       "      <th>0</th>\n",
       "      <td>The Preamble to the United States Constitution...</td>\n",
       "      <td>I don't know.</td>\n",
       "      <td>[Preamble:]</td>\n",
       "      <td>According to the Preamble to the United States...</td>\n",
       "      <td>1.0</td>\n",
       "      <td>0.000000</td>\n",
       "      <td>0.000000</td>\n",
       "      <td>1.0</td>\n",
       "    </tr>\n",
       "    <tr>\n",
       "      <th>1</th>\n",
       "      <td>Question: According to the context provided, w...</td>\n",
       "      <td>I don't know.</td>\n",
       "      <td>[John, by the grace of God, king of England, l...</td>\n",
       "      <td>Based on the provided context, the author of t...</td>\n",
       "      <td>1.0</td>\n",
       "      <td>0.000000</td>\n",
       "      <td>0.000000</td>\n",
       "      <td>1.0</td>\n",
       "    </tr>\n",
       "    <tr>\n",
       "      <th>2</th>\n",
       "      <td>Question: To whom is the letter addressing in ...</td>\n",
       "      <td>The letter is addressing the General Assembly.</td>\n",
       "      <td>[stewards, servants, and to all his bailiffs a...</td>\n",
       "      <td>The letter is addressing stewards, servants, b...</td>\n",
       "      <td>1.0</td>\n",
       "      <td>0.000000</td>\n",
       "      <td>0.944142</td>\n",
       "      <td>1.0</td>\n",
       "    </tr>\n",
       "    <tr>\n",
       "      <th>3</th>\n",
       "      <td>What is the primary purpose of the actions bei...</td>\n",
       "      <td>The primary purpose of the actions being descr...</td>\n",
       "      <td>[God and the advancement of his holy Church an...</td>\n",
       "      <td>The primary purpose of the actions being descr...</td>\n",
       "      <td>1.0</td>\n",
       "      <td>0.000000</td>\n",
       "      <td>1.000000</td>\n",
       "      <td>1.0</td>\n",
       "    </tr>\n",
       "    <tr>\n",
       "      <th>4</th>\n",
       "      <td>Question: Who were some of the prominent churc...</td>\n",
       "      <td>I don't know.</td>\n",
       "      <td>[England and cardinal of the holy Roman Church...</td>\n",
       "      <td>Some of the prominent church figures in Englan...</td>\n",
       "      <td>1.0</td>\n",
       "      <td>0.000000</td>\n",
       "      <td>0.000000</td>\n",
       "      <td>1.0</td>\n",
       "    </tr>\n",
       "    <tr>\n",
       "      <th>5</th>\n",
       "      <td>Question: Who are some of the notable individu...</td>\n",
       "      <td>I don't know.</td>\n",
       "      <td>[of Coventry, Benedict of Rochester, bishops; ...</td>\n",
       "      <td>The notable individuals mentioned in the conte...</td>\n",
       "      <td>1.0</td>\n",
       "      <td>0.000000</td>\n",
       "      <td>0.000000</td>\n",
       "      <td>1.0</td>\n",
       "    </tr>\n",
       "    <tr>\n",
       "      <th>6</th>\n",
       "      <td>Question: Who were some of the illustrious men...</td>\n",
       "      <td>I don't know.</td>\n",
       "      <td>[and of the illustrious men William Marshal, e...</td>\n",
       "      <td>The illustrious men mentioned in the context p...</td>\n",
       "      <td>1.0</td>\n",
       "      <td>1.000000</td>\n",
       "      <td>0.000000</td>\n",
       "      <td>1.0</td>\n",
       "    </tr>\n",
       "    <tr>\n",
       "      <th>7</th>\n",
       "      <td>Question:\\nWho were some of the liegemen menti...</td>\n",
       "      <td>I don't know.</td>\n",
       "      <td>[Peter Fitz Herbert, Hubert De Burgh (senescha...</td>\n",
       "      <td>Some of the liegemen mentioned in the context ...</td>\n",
       "      <td>1.0</td>\n",
       "      <td>1.000000</td>\n",
       "      <td>0.000000</td>\n",
       "      <td>1.0</td>\n",
       "    </tr>\n",
       "    <tr>\n",
       "      <th>8</th>\n",
       "      <td>Question: What did the Magna Carta grant to th...</td>\n",
       "      <td>I don't know.</td>\n",
       "      <td>[1. In the first place we have granted to God,...</td>\n",
       "      <td>The Magna Carta granted the English Church fre...</td>\n",
       "      <td>1.0</td>\n",
       "      <td>1.000000</td>\n",
       "      <td>0.000000</td>\n",
       "      <td>1.0</td>\n",
       "    </tr>\n",
       "    <tr>\n",
       "      <th>9</th>\n",
       "      <td>In the context provided, what specific aspect ...</td>\n",
       "      <td>The specific aspect of the English Church high...</td>\n",
       "      <td>[liberties inviolate; and we will that it be t...</td>\n",
       "      <td>The specific aspect of the English Church high...</td>\n",
       "      <td>1.0</td>\n",
       "      <td>0.333333</td>\n",
       "      <td>0.989799</td>\n",
       "      <td>1.0</td>\n",
       "    </tr>\n",
       "    <tr>\n",
       "      <th>10</th>\n",
       "      <td>Question: Who granted, confirmed, and obtained...</td>\n",
       "      <td>I don't know.</td>\n",
       "      <td>[pure and unconstrained will, did grant, and d...</td>\n",
       "      <td>The speaker granted, confirmed, and obtained r...</td>\n",
       "      <td>1.0</td>\n",
       "      <td>NaN</td>\n",
       "      <td>0.000000</td>\n",
       "      <td>1.0</td>\n",
       "    </tr>\n",
       "    <tr>\n",
       "      <th>11</th>\n",
       "      <td>Question: According to the context, who has be...</td>\n",
       "      <td>According to the context, everyone is entitled...</td>\n",
       "      <td>[and this we will observe, and our will is tha...</td>\n",
       "      <td>According to the context, the rights outlined ...</td>\n",
       "      <td>1.0</td>\n",
       "      <td>0.000000</td>\n",
       "      <td>0.920955</td>\n",
       "      <td>1.0</td>\n",
       "    </tr>\n",
       "    <tr>\n",
       "      <th>12</th>\n",
       "      <td>Question:\\nAccording to the context provided, ...</td>\n",
       "      <td>According to the context provided, everyone is...</td>\n",
       "      <td>[liberties, to be had and held by them and the...</td>\n",
       "      <td>According to the context provided, the liberti...</td>\n",
       "      <td>1.0</td>\n",
       "      <td>0.000000</td>\n",
       "      <td>0.965144</td>\n",
       "      <td>1.0</td>\n",
       "    </tr>\n",
       "    <tr>\n",
       "      <th>13</th>\n",
       "      <td>Question:\\nAccording to the context provided, ...</td>\n",
       "      <td>I don't know.</td>\n",
       "      <td>[2. If any of our earls or barons, or others h...</td>\n",
       "      <td>According to the context provided, the conditi...</td>\n",
       "      <td>1.0</td>\n",
       "      <td>NaN</td>\n",
       "      <td>0.000000</td>\n",
       "      <td>1.0</td>\n",
       "    </tr>\n",
       "    <tr>\n",
       "      <th>14</th>\n",
       "      <td>Question: According to the context, how much w...</td>\n",
       "      <td>I don't know.</td>\n",
       "      <td>[by the old relief, to wit, the heir or heirs ...</td>\n",
       "      <td>According to the context, the heir or heirs of...</td>\n",
       "      <td>1.0</td>\n",
       "      <td>0.000000</td>\n",
       "      <td>0.000000</td>\n",
       "      <td>1.0</td>\n",
       "    </tr>\n",
       "  </tbody>\n",
       "</table>\n",
       "</div>"
      ],
      "text/plain": [
       "                                             question  \\\n",
       "0   The Preamble to the United States Constitution...   \n",
       "1   Question: According to the context provided, w...   \n",
       "2   Question: To whom is the letter addressing in ...   \n",
       "3   What is the primary purpose of the actions bei...   \n",
       "4   Question: Who were some of the prominent churc...   \n",
       "5   Question: Who are some of the notable individu...   \n",
       "6   Question: Who were some of the illustrious men...   \n",
       "7   Question:\\nWho were some of the liegemen menti...   \n",
       "8   Question: What did the Magna Carta grant to th...   \n",
       "9   In the context provided, what specific aspect ...   \n",
       "10  Question: Who granted, confirmed, and obtained...   \n",
       "11  Question: According to the context, who has be...   \n",
       "12  Question:\\nAccording to the context provided, ...   \n",
       "13  Question:\\nAccording to the context provided, ...   \n",
       "14  Question: According to the context, how much w...   \n",
       "\n",
       "                                               answer  \\\n",
       "0                                       I don't know.   \n",
       "1                                       I don't know.   \n",
       "2      The letter is addressing the General Assembly.   \n",
       "3   The primary purpose of the actions being descr...   \n",
       "4                                       I don't know.   \n",
       "5                                       I don't know.   \n",
       "6                                       I don't know.   \n",
       "7                                       I don't know.   \n",
       "8                                       I don't know.   \n",
       "9   The specific aspect of the English Church high...   \n",
       "10                                      I don't know.   \n",
       "11  According to the context, everyone is entitled...   \n",
       "12  According to the context provided, everyone is...   \n",
       "13                                      I don't know.   \n",
       "14                                      I don't know.   \n",
       "\n",
       "                                             contexts  \\\n",
       "0                                         [Preamble:]   \n",
       "1   [John, by the grace of God, king of England, l...   \n",
       "2   [stewards, servants, and to all his bailiffs a...   \n",
       "3   [God and the advancement of his holy Church an...   \n",
       "4   [England and cardinal of the holy Roman Church...   \n",
       "5   [of Coventry, Benedict of Rochester, bishops; ...   \n",
       "6   [and of the illustrious men William Marshal, e...   \n",
       "7   [Peter Fitz Herbert, Hubert De Burgh (senescha...   \n",
       "8   [1. In the first place we have granted to God,...   \n",
       "9   [liberties inviolate; and we will that it be t...   \n",
       "10  [pure and unconstrained will, did grant, and d...   \n",
       "11  [and this we will observe, and our will is tha...   \n",
       "12  [liberties, to be had and held by them and the...   \n",
       "13  [2. If any of our earls or barons, or others h...   \n",
       "14  [by the old relief, to wit, the heir or heirs ...   \n",
       "\n",
       "                                         ground_truth  context_precision  \\\n",
       "0   According to the Preamble to the United States...                1.0   \n",
       "1   Based on the provided context, the author of t...                1.0   \n",
       "2   The letter is addressing stewards, servants, b...                1.0   \n",
       "3   The primary purpose of the actions being descr...                1.0   \n",
       "4   Some of the prominent church figures in Englan...                1.0   \n",
       "5   The notable individuals mentioned in the conte...                1.0   \n",
       "6   The illustrious men mentioned in the context p...                1.0   \n",
       "7   Some of the liegemen mentioned in the context ...                1.0   \n",
       "8   The Magna Carta granted the English Church fre...                1.0   \n",
       "9   The specific aspect of the English Church high...                1.0   \n",
       "10  The speaker granted, confirmed, and obtained r...                1.0   \n",
       "11  According to the context, the rights outlined ...                1.0   \n",
       "12  According to the context provided, the liberti...                1.0   \n",
       "13  According to the context provided, the conditi...                1.0   \n",
       "14  According to the context, the heir or heirs of...                1.0   \n",
       "\n",
       "    faithfulness  answer_relevancy  context_recall  \n",
       "0       0.000000          0.000000             1.0  \n",
       "1       0.000000          0.000000             1.0  \n",
       "2       0.000000          0.944142             1.0  \n",
       "3       0.000000          1.000000             1.0  \n",
       "4       0.000000          0.000000             1.0  \n",
       "5       0.000000          0.000000             1.0  \n",
       "6       1.000000          0.000000             1.0  \n",
       "7       1.000000          0.000000             1.0  \n",
       "8       1.000000          0.000000             1.0  \n",
       "9       0.333333          0.989799             1.0  \n",
       "10           NaN          0.000000             1.0  \n",
       "11      0.000000          0.920955             1.0  \n",
       "12      0.000000          0.965144             1.0  \n",
       "13           NaN          0.000000             1.0  \n",
       "14      0.000000          0.000000             1.0  "
      ]
     },
     "execution_count": 160,
     "metadata": {},
     "output_type": "execute_result"
    }
   ],
   "source": [
    "result_df = result.to_pandas()\n",
    "result_df"
   ]
  },
  {
   "cell_type": "code",
   "execution_count": 161,
   "metadata": {},
   "outputs": [
    {
     "name": "stdout",
     "output_type": "stream",
     "text": [
      "Metric: context_precision, score: 0.9999999999\n",
      "Metric: faithfulness, score: 0.25641025641025644\n",
      "Metric: answer_relevancy, score: 0.3213360102965338\n",
      "Metric: context_recall, score: 1.0\n"
     ]
    }
   ],
   "source": [
    "for metric, score in result.items():\n",
    "    print(f\"Metric: {metric}, score: {score}\", end='\\n')"
   ]
  },
  {
   "cell_type": "code",
   "execution_count": 162,
   "metadata": {},
   "outputs": [
    {
     "name": "stdout",
     "output_type": "stream",
     "text": [
      "The Preamble to the United States Constitution begins with the famous words, \"We the People of the United States, in Order to form a more perfect Union, establish Justice, insure domestic Tranquility, provide for the common defence, promote the general Welfare, and secure the Blessings of Liberty to ourselves and our Posterity, do ordain and establish this Constitution for the United States of America.\"\n",
      "\n",
      "Question:\n",
      "According to the Preamble to the United States Constitution, what are the six purposes for which the Constitution was established?\n",
      "Answer:  I don't know.\n",
      "Ground truth:  According to the Preamble to the United States Constitution, the six purposes for which the Constitution was established are:\n",
      "\n",
      "1. To form a more perfect Union\n",
      "2. Establish Justice\n",
      "3. Insure domestic Tranquility\n",
      "4. Provide for the common defence\n",
      "5. Promote the general Welfare\n",
      "6. Secure the Blessings of Liberty to ourselves and our Posterity\n",
      "Faithfulness:  0.0\n",
      "---------------------\n",
      "Question: According to the context provided, who is the author of the document?\n",
      "Answer:  I don't know.\n",
      "Ground truth:  Based on the provided context, the author of the document is John, by the grace of God, king of England, lord of Ireland, duke of Normandy and Aquitaine, and count of Anjou.\n",
      "Faithfulness:  0.0\n",
      "---------------------\n",
      "Question: To whom is the letter addressing in the given context?\n",
      "Answer:  The letter is addressing the General Assembly.\n",
      "Ground truth:  The letter is addressing stewards, servants, bailiffs, and liege subjects.\n",
      "Faithfulness:  0.0\n",
      "---------------------\n",
      "What is the primary purpose of the actions being described in the given context?\n",
      "Answer:  The primary purpose of the actions being described in the given context is to promote respect for human rights and freedoms and to secure their universal and effective recognition and observance.\n",
      "Ground truth:  The primary purpose of the actions being described in the given context is to promote the interests of God and the holy Church, as well as to bring about improvements or reforms within the realm. This is being done with the counsel of religious leaders, indicating a collaboration between the church and the ruling authority for these aims.\n",
      "Faithfulness:  0.0\n",
      "---------------------\n",
      "Question: Who were some of the prominent church figures in England during the time period mentioned in the context?\n",
      "Answer:  I don't know.\n",
      "Ground truth:  Some of the prominent church figures in England during the time period mentioned in the context include:\n",
      "\n",
      "- Henry, archbishop of Dublin\n",
      "- William of London\n",
      "- Peter of Winchester\n",
      "- Jocelyn of Bath and Glastonbury\n",
      "- Hugh of Lincoln\n",
      "- Walter of Worcester\n",
      "Faithfulness:  0.0\n",
      "---------------------\n",
      "Question: Who are some of the notable individuals mentioned in the context provided?\n",
      "Answer:  I don't know.\n",
      "Ground truth:  The notable individuals mentioned in the context provided are Benedict of Rochester, Master Pandulf, and brother Aymeric (master of the Knights of the Temple in England).\n",
      "Faithfulness:  0.0\n",
      "---------------------\n",
      "In the context provided, what specific aspect of the English Church is highlighted as being of utmost importance and very essential?\n",
      "Answer:  The specific aspect of the English Church highlighted as being of utmost importance and very essential is the right to freedom of thought, conscience, and religion.\n",
      "Ground truth:  The specific aspect of the English Church highlighted as being of utmost importance and very essential is the freedom of elections.\n",
      "Faithfulness:  0.3333333333333333\n",
      "---------------------\n",
      "Question: According to the context, who has been granted the rights outlined in the document?\n",
      "Answer:  According to the context, everyone is entitled to the rights outlined in the document.\n",
      "Ground truth:  According to the context, the rights outlined in the document have been granted to all freemen of the kingdom, for the grantor and their heirs forever.\n",
      "Faithfulness:  0.0\n",
      "---------------------\n",
      "Question:\n",
      "According to the context provided, who is entitled to the liberties mentioned in the text?\n",
      "Answer:  According to the context provided, everyone is entitled to the liberties mentioned in the text.\n",
      "Ground truth:  According to the context provided, the liberties mentioned in the text are entitled to \"them and their heirs\" of \"us and our heirs forever.\"\n",
      "Faithfulness:  0.0\n",
      "---------------------\n",
      "Question: According to the context, how much would the heir or heirs of a knight be required to pay as relief?\n",
      "Answer:  I don't know.\n",
      "Ground truth:  According to the context, the heir or heirs of a knight would be required to pay 100 shillings at most as relief.\n",
      "Faithfulness:  0.0\n",
      "---------------------\n"
     ]
    }
   ],
   "source": [
    "for _, row in result_df.query('faithfulness < 1').iterrows():\n",
    "    print(row.question, end='\\n')\n",
    "    print(\"Answer: \", row.answer, end='\\n')\n",
    "    print(\"Ground truth: \", row.ground_truth, end='\\n')\n",
    "    print(\"Faithfulness: \", row.faithfulness, end='\\n')\n",
    "    print('---------------------')"
   ]
  },
  {
   "cell_type": "code",
   "execution_count": 163,
   "metadata": {},
   "outputs": [
    {
     "data": {
      "image/png": "[encoded data removed]",
      "text/plain": [
       "<Figure size 640x480 with 1 Axes>"
      ]
     },
     "metadata": {},
     "output_type": "display_data"
    }
   ],
   "source": [
    "plt.bar(list(result.keys()), list(result.values()))\n",
    "plt.ylabel(\"Scores\")\n",
    "plt.show()"
   ]
  }
 ],
 "metadata": {
  "colab": {
   "provenance": []
  },
  "kernelspec": {
   "display_name": "Python 3 (ipykernel)",
   "language": "python",
   "name": "python3"
  },
  "language_info": {
   "codemirror_mode": {
    "name": "ipython",
    "version": 3
   },
   "file_extension": ".py",
   "mimetype": "text/x-python",
   "name": "python",
   "nbconvert_exporter": "python",
   "pygments_lexer": "ipython3",
   "version": "3.10.14"
  }
 },
 "nbformat": 4,
 "nbformat_minor": 4
}
